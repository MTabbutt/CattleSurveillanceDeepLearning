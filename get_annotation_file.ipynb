{
 "cells": [
  {
   "cell_type": "code",
   "execution_count": 168,
   "metadata": {},
   "outputs": [],
   "source": [
    "import json\n",
    "import pandas as pd\n",
    "import numpy as np\n",
    "import os\n",
    "import re\n",
    "import matplotlib.image as mpimg\n",
    "import matplotlib.pyplot as plt\n",
    "from matplotlib.pyplot import figure"
   ]
  },
  {
   "cell_type": "code",
   "execution_count": 169,
   "metadata": {},
   "outputs": [],
   "source": [
    "coords = pd.read_csv('coordinates.csv')"
   ]
  },
  {
   "cell_type": "code",
   "execution_count": 170,
   "metadata": {},
   "outputs": [
    {
     "data": {
      "text/html": [
       "<div>\n",
       "<style scoped>\n",
       "    .dataframe tbody tr th:only-of-type {\n",
       "        vertical-align: middle;\n",
       "    }\n",
       "\n",
       "    .dataframe tbody tr th {\n",
       "        vertical-align: top;\n",
       "    }\n",
       "\n",
       "    .dataframe thead th {\n",
       "        text-align: right;\n",
       "    }\n",
       "</style>\n",
       "<table border=\"1\" class=\"dataframe\">\n",
       "  <thead>\n",
       "    <tr style=\"text-align: right;\">\n",
       "      <th></th>\n",
       "      <th>filename</th>\n",
       "      <th>left</th>\n",
       "      <th>top</th>\n",
       "      <th>width</th>\n",
       "      <th>height</th>\n",
       "    </tr>\n",
       "  </thead>\n",
       "  <tbody>\n",
       "    <tr>\n",
       "      <th>0</th>\n",
       "      <td>1569135540_02510_0_cropped.jpg</td>\n",
       "      <td>785</td>\n",
       "      <td>12</td>\n",
       "      <td>325</td>\n",
       "      <td>297</td>\n",
       "    </tr>\n",
       "    <tr>\n",
       "      <th>1</th>\n",
       "      <td>1569135540_03199_0_cropped.jpg</td>\n",
       "      <td>469</td>\n",
       "      <td>115</td>\n",
       "      <td>430</td>\n",
       "      <td>284</td>\n",
       "    </tr>\n",
       "    <tr>\n",
       "      <th>2</th>\n",
       "      <td>1569135540_02624_0_cropped.jpg</td>\n",
       "      <td>479</td>\n",
       "      <td>111</td>\n",
       "      <td>421</td>\n",
       "      <td>294</td>\n",
       "    </tr>\n",
       "    <tr>\n",
       "      <th>3</th>\n",
       "      <td>1569143040_05153_0_cropped.jpg</td>\n",
       "      <td>447</td>\n",
       "      <td>217</td>\n",
       "      <td>205</td>\n",
       "      <td>331</td>\n",
       "    </tr>\n",
       "    <tr>\n",
       "      <th>4</th>\n",
       "      <td>1569143040_05153_0-3_cropped.jpg</td>\n",
       "      <td>447</td>\n",
       "      <td>217</td>\n",
       "      <td>712</td>\n",
       "      <td>429</td>\n",
       "    </tr>\n",
       "    <tr>\n",
       "      <th>...</th>\n",
       "      <td>...</td>\n",
       "      <td>...</td>\n",
       "      <td>...</td>\n",
       "      <td>...</td>\n",
       "      <td>...</td>\n",
       "    </tr>\n",
       "    <tr>\n",
       "      <th>9616</th>\n",
       "      <td>1574074800_06358_1-2_cropped.jpg</td>\n",
       "      <td>396</td>\n",
       "      <td>117</td>\n",
       "      <td>419</td>\n",
       "      <td>450</td>\n",
       "    </tr>\n",
       "    <tr>\n",
       "      <th>9617</th>\n",
       "      <td>1574074800_06358_2_cropped.jpg</td>\n",
       "      <td>396</td>\n",
       "      <td>301</td>\n",
       "      <td>160</td>\n",
       "      <td>266</td>\n",
       "    </tr>\n",
       "    <tr>\n",
       "      <th>9618</th>\n",
       "      <td>1574074800_03901_0_cropped.jpg</td>\n",
       "      <td>514</td>\n",
       "      <td>104</td>\n",
       "      <td>301</td>\n",
       "      <td>247</td>\n",
       "    </tr>\n",
       "    <tr>\n",
       "      <th>9619</th>\n",
       "      <td>1574074800_03901_0-1_cropped.jpg</td>\n",
       "      <td>444</td>\n",
       "      <td>104</td>\n",
       "      <td>371</td>\n",
       "      <td>535</td>\n",
       "    </tr>\n",
       "    <tr>\n",
       "      <th>9620</th>\n",
       "      <td>1574074800_03901_1_cropped.jpg</td>\n",
       "      <td>444</td>\n",
       "      <td>339</td>\n",
       "      <td>340</td>\n",
       "      <td>300</td>\n",
       "    </tr>\n",
       "  </tbody>\n",
       "</table>\n",
       "<p>9621 rows × 5 columns</p>\n",
       "</div>"
      ],
      "text/plain": [
       "                              filename  left  top  width  height\n",
       "0       1569135540_02510_0_cropped.jpg   785   12    325     297\n",
       "1       1569135540_03199_0_cropped.jpg   469  115    430     284\n",
       "2       1569135540_02624_0_cropped.jpg   479  111    421     294\n",
       "3       1569143040_05153_0_cropped.jpg   447  217    205     331\n",
       "4     1569143040_05153_0-3_cropped.jpg   447  217    712     429\n",
       "...                                ...   ...  ...    ...     ...\n",
       "9616  1574074800_06358_1-2_cropped.jpg   396  117    419     450\n",
       "9617    1574074800_06358_2_cropped.jpg   396  301    160     266\n",
       "9618    1574074800_03901_0_cropped.jpg   514  104    301     247\n",
       "9619  1574074800_03901_0-1_cropped.jpg   444  104    371     535\n",
       "9620    1574074800_03901_1_cropped.jpg   444  339    340     300\n",
       "\n",
       "[9621 rows x 5 columns]"
      ]
     },
     "execution_count": 170,
     "metadata": {},
     "output_type": "execute_result"
    }
   ],
   "source": [
    "coords"
   ]
  },
  {
   "cell_type": "code",
   "execution_count": 171,
   "metadata": {},
   "outputs": [],
   "source": [
    "working = {\"info\": {\"description\": \"AP-10k\", \"url\": \"https://github.com/AlexTheBad/AP-10K\", \"version\": \"1.0\", \"year\": 2021, \"contributor\": \"AP-10k Team\", \"date_created\": \"2021/07/01\"}, \"licenses\": [{\"id\": 1, \"name\": \"The MIT License\", \"url\": \"https://www.mit.edu/~amini/LICENSE.md\"}]}"
   ]
  },
  {
   "cell_type": "code",
   "execution_count": 191,
   "metadata": {},
   "outputs": [],
   "source": [
    "# assign directory\n",
    "directory = 'data'\n",
    "images = [] \n",
    "# iterate over files in\n",
    "# that directory\n",
    "for filename in os.listdir(directory):\n",
    "    \n",
    "    if len(filename) > 10:\n",
    "        d = {}\n",
    "        m = filename.split('_')\n",
    "        if len(m[2])>1:\n",
    "            continue\n",
    "        else:\n",
    "            id = m[0]+m[1]+m[2]\n",
    "        f = os.path.join(directory, filename)\n",
    "        img = mpimg.imread(f)\n",
    "        width = img.shape[1]\n",
    "        height = img.shape[0]\n",
    "        background = 1\n",
    "        d[\"license\"] = 1\n",
    "        d[\"id\"] = int(id)\n",
    "        d[\"file_name\"] = filename\n",
    "        d[\"width\"] = width\n",
    "        d[\"height\"] = height\n",
    "        d[\"background\"] = 5\n",
    "        # print(id)\n",
    "\n",
    "    images.append(d)"
   ]
  },
  {
   "cell_type": "code",
   "execution_count": 193,
   "metadata": {},
   "outputs": [
    {
     "data": {
      "text/plain": [
       "6531"
      ]
     },
     "execution_count": 193,
     "metadata": {},
     "output_type": "execute_result"
    }
   ],
   "source": [
    "ids = [i[\"id\"] for i in images]\n",
    "len(ids)"
   ]
  },
  {
   "cell_type": "code",
   "execution_count": 194,
   "metadata": {},
   "outputs": [
    {
     "data": {
      "text/plain": [
       "[{'license': 1,\n",
       "  'id': 1569333540042572,\n",
       "  'file_name': '1569333540_04257_2_superimposed.jpg',\n",
       "  'width': 1920,\n",
       "  'height': 1080,\n",
       "  'background': 5},\n",
       " {'license': 1,\n",
       "  'id': 1569693540009950,\n",
       "  'file_name': '1569693540_00995_0_superimposed.jpg',\n",
       "  'width': 1920,\n",
       "  'height': 1080,\n",
       "  'background': 5},\n",
       " {'license': 1,\n",
       "  'id': 1569873540021821,\n",
       "  'file_name': '1569873540_02182_1_superimposed.jpg',\n",
       "  'width': 1920,\n",
       "  'height': 1080,\n",
       "  'background': 5},\n",
       " {'license': 1,\n",
       "  'id': 1573725600035631,\n",
       "  'file_name': '1573725600_03563_1_superimposed.jpg',\n",
       "  'width': 1920,\n",
       "  'height': 1080,\n",
       "  'background': 5},\n",
       " {'license': 1,\n",
       "  'id': 1573934400034931,\n",
       "  'file_name': '1573934400_03493_1_superimposed.jpg',\n",
       "  'width': 1920,\n",
       "  'height': 1080,\n",
       "  'background': 5}]"
      ]
     },
     "execution_count": 194,
     "metadata": {},
     "output_type": "execute_result"
    }
   ],
   "source": [
    "images[:5]"
   ]
  },
  {
   "cell_type": "code",
   "execution_count": 195,
   "metadata": {},
   "outputs": [],
   "source": [
    "for i, row in coords.iterrows():\n",
    "\n",
    "    m = row['filename'].split('_')\n",
    "    id = m[0]+m[1]\n",
    "\n",
    "    \n",
    "    coords.loc[i,'id'] = int(id)"
   ]
  },
  {
   "cell_type": "code",
   "execution_count": 196,
   "metadata": {},
   "outputs": [
    {
     "data": {
      "text/html": [
       "<div>\n",
       "<style scoped>\n",
       "    .dataframe tbody tr th:only-of-type {\n",
       "        vertical-align: middle;\n",
       "    }\n",
       "\n",
       "    .dataframe tbody tr th {\n",
       "        vertical-align: top;\n",
       "    }\n",
       "\n",
       "    .dataframe thead th {\n",
       "        text-align: right;\n",
       "    }\n",
       "</style>\n",
       "<table border=\"1\" class=\"dataframe\">\n",
       "  <thead>\n",
       "    <tr style=\"text-align: right;\">\n",
       "      <th></th>\n",
       "      <th>filename</th>\n",
       "      <th>left</th>\n",
       "      <th>top</th>\n",
       "      <th>width</th>\n",
       "      <th>height</th>\n",
       "      <th>id</th>\n",
       "    </tr>\n",
       "  </thead>\n",
       "  <tbody>\n",
       "    <tr>\n",
       "      <th>0</th>\n",
       "      <td>1569135540_02510_0_cropped.jpg</td>\n",
       "      <td>785</td>\n",
       "      <td>12</td>\n",
       "      <td>325</td>\n",
       "      <td>297</td>\n",
       "      <td>1.569136e+14</td>\n",
       "    </tr>\n",
       "    <tr>\n",
       "      <th>1</th>\n",
       "      <td>1569135540_03199_0_cropped.jpg</td>\n",
       "      <td>469</td>\n",
       "      <td>115</td>\n",
       "      <td>430</td>\n",
       "      <td>284</td>\n",
       "      <td>1.569136e+14</td>\n",
       "    </tr>\n",
       "    <tr>\n",
       "      <th>2</th>\n",
       "      <td>1569135540_02624_0_cropped.jpg</td>\n",
       "      <td>479</td>\n",
       "      <td>111</td>\n",
       "      <td>421</td>\n",
       "      <td>294</td>\n",
       "      <td>1.569136e+14</td>\n",
       "    </tr>\n",
       "    <tr>\n",
       "      <th>3</th>\n",
       "      <td>1569143040_05153_0_cropped.jpg</td>\n",
       "      <td>447</td>\n",
       "      <td>217</td>\n",
       "      <td>205</td>\n",
       "      <td>331</td>\n",
       "      <td>1.569143e+14</td>\n",
       "    </tr>\n",
       "    <tr>\n",
       "      <th>4</th>\n",
       "      <td>1569143040_05153_0-3_cropped.jpg</td>\n",
       "      <td>447</td>\n",
       "      <td>217</td>\n",
       "      <td>712</td>\n",
       "      <td>429</td>\n",
       "      <td>1.569143e+14</td>\n",
       "    </tr>\n",
       "  </tbody>\n",
       "</table>\n",
       "</div>"
      ],
      "text/plain": [
       "                           filename  left  top  width  height            id\n",
       "0    1569135540_02510_0_cropped.jpg   785   12    325     297  1.569136e+14\n",
       "1    1569135540_03199_0_cropped.jpg   469  115    430     284  1.569136e+14\n",
       "2    1569135540_02624_0_cropped.jpg   479  111    421     294  1.569136e+14\n",
       "3    1569143040_05153_0_cropped.jpg   447  217    205     331  1.569143e+14\n",
       "4  1569143040_05153_0-3_cropped.jpg   447  217    712     429  1.569143e+14"
      ]
     },
     "execution_count": 196,
     "metadata": {},
     "output_type": "execute_result"
    }
   ],
   "source": [
    "coords.head()"
   ]
  },
  {
   "cell_type": "code",
   "execution_count": 197,
   "metadata": {},
   "outputs": [
    {
     "data": {
      "text/plain": [
       "156914304005153.0"
      ]
     },
     "execution_count": 197,
     "metadata": {},
     "output_type": "execute_result"
    }
   ],
   "source": [
    "coords.head()['id'][4]"
   ]
  },
  {
   "cell_type": "code",
   "execution_count": 198,
   "metadata": {},
   "outputs": [],
   "source": [
    "annotations = []\n",
    "for ind, row in coords.iterrows():\n",
    "    d = {}\n",
    "    d['id'] = ind\n",
    "\n",
    "    d['image_id'] = int(row['id'])\n",
    "    d[\"category_id\"] = 5\n",
    "    d[\"bbox\"] = [row['left'], row['top'], row['width'], row['height']]\n",
    "    d['area'] = row['width'] * row['height']\n",
    "    if '-' in row['filename']:\n",
    "        d['iscrowd'] = 1\n",
    "    else:\n",
    "        d['iscrowd'] = 0\n",
    "    annotations.append(d)\n",
    "    \n",
    "    "
   ]
  },
  {
   "cell_type": "code",
   "execution_count": 205,
   "metadata": {},
   "outputs": [
    {
     "data": {
      "text/plain": [
       "[{'id': 0,\n",
       "  'image_id': 156913554002510,\n",
       "  'category_id': 5,\n",
       "  'bbox': [785, 12, 325, 297],\n",
       "  'area': 96525,\n",
       "  'iscrowd': 0},\n",
       " {'id': 1,\n",
       "  'image_id': 156913554003199,\n",
       "  'category_id': 5,\n",
       "  'bbox': [469, 115, 430, 284],\n",
       "  'area': 122120,\n",
       "  'iscrowd': 0},\n",
       " {'id': 2,\n",
       "  'image_id': 156913554002624,\n",
       "  'category_id': 5,\n",
       "  'bbox': [479, 111, 421, 294],\n",
       "  'area': 123774,\n",
       "  'iscrowd': 0}]"
      ]
     },
     "execution_count": 205,
     "metadata": {},
     "output_type": "execute_result"
    }
   ],
   "source": [
    "annotations[:3]"
   ]
  },
  {
   "cell_type": "code",
   "execution_count": 200,
   "metadata": {},
   "outputs": [],
   "source": [
    "working[\"images\"] = images\n",
    "working[\"annotations\"] = annotations"
   ]
  },
  {
   "cell_type": "code",
   "execution_count": 201,
   "metadata": {},
   "outputs": [],
   "source": [
    "working[\"categories\"] = [{\"id\": 1, \"name\": \"antelope\", \"supercategory\": \"Bovidae\", \"keypoints\": [\"left_eye\", \"right_eye\", \"nose\", \"neck\", \"root_of_tail\", \"left_shoulder\", \"left_elbow\", \"left_front_paw\", \"right_shoulder\", \"right_elbow\", \"right_front_paw\", \"left_hip\", \"left_knee\", \"left_back_paw\", \"right_hip\", \"right_knee\", \"right_back_paw\"], \"skeleton\": [[1, 2], [1, 3], [2, 3], [3, 4], [4, 5], [4, 6], [6, 7], [7, 8], [4, 9], [9, 10], [10, 11], [5, 12], [12, 13], [13, 14], [5, 15], [15, 16], [16, 17]]}, {\"id\": 2, \"name\": \"argali sheep\", \"supercategory\": \"Bovidae\", \"keypoints\": [\"left_eye\", \"right_eye\", \"nose\", \"neck\", \"root_of_tail\", \"left_shoulder\", \"left_elbow\", \"left_front_paw\", \"right_shoulder\", \"right_elbow\", \"right_front_paw\", \"left_hip\", \"left_knee\", \"left_back_paw\", \"right_hip\", \"right_knee\", \"right_back_paw\"], \"skeleton\": [[1, 2], [1, 3], [2, 3], [3, 4], [4, 5], [4, 6], [6, 7], [7, 8], [4, 9], [9, 10], [10, 11], [5, 12], [12, 13], [13, 14], [5, 15], [15, 16], [16, 17]]}, {\"id\": 3, \"name\": \"bison\", \"supercategory\": \"Bovidae\", \"keypoints\": [\"left_eye\", \"right_eye\", \"nose\", \"neck\", \"root_of_tail\", \"left_shoulder\", \"left_elbow\", \"left_front_paw\", \"right_shoulder\", \"right_elbow\", \"right_front_paw\", \"left_hip\", \"left_knee\", \"left_back_paw\", \"right_hip\", \"right_knee\", \"right_back_paw\"], \"skeleton\": [[1, 2], [1, 3], [2, 3], [3, 4], [4, 5], [4, 6], [6, 7], [7, 8], [4, 9], [9, 10], [10, 11], [5, 12], [12, 13], [13, 14], [5, 15], [15, 16], [16, 17]]}, {\"id\": 4, \"name\": \"buffalo\", \"supercategory\": \"Bovidae\", \"keypoints\": [\"left_eye\", \"right_eye\", \"nose\", \"neck\", \"root_of_tail\", \"left_shoulder\", \"left_elbow\", \"left_front_paw\", \"right_shoulder\", \"right_elbow\", \"right_front_paw\", \"left_hip\", \"left_knee\", \"left_back_paw\", \"right_hip\", \"right_knee\", \"right_back_paw\"], \"skeleton\": [[1, 2], [1, 3], [2, 3], [3, 4], [4, 5], [4, 6], [6, 7], [7, 8], [4, 9], [9, 10], [10, 11], [5, 12], [12, 13], [13, 14], [5, 15], [15, 16], [16, 17]]}, {\"id\": 5, \"name\": \"cow\", \"supercategory\": \"Bovidae\", \"keypoints\": [\"left_eye\", \"right_eye\", \"nose\", \"neck\", \"root_of_tail\", \"left_shoulder\", \"left_elbow\", \"left_front_paw\", \"right_shoulder\", \"right_elbow\", \"right_front_paw\", \"left_hip\", \"left_knee\", \"left_back_paw\", \"right_hip\", \"right_knee\", \"right_back_paw\"], \"skeleton\": [[1, 2], [1, 3], [2, 3], [3, 4], [4, 5], [4, 6], [6, 7], [7, 8], [4, 9], [9, 10], [10, 11], [5, 12], [12, 13], [13, 14], [5, 15], [15, 16], [16, 17]]}, {\"id\": 6, \"name\": \"sheep\", \"supercategory\": \"Bovidae\", \"keypoints\": [\"left_eye\", \"right_eye\", \"nose\", \"neck\", \"root_of_tail\", \"left_shoulder\", \"left_elbow\", \"left_front_paw\", \"right_shoulder\", \"right_elbow\", \"right_front_paw\", \"left_hip\", \"left_knee\", \"left_back_paw\", \"right_hip\", \"right_knee\", \"right_back_paw\"], \"skeleton\": [[1, 2], [1, 3], [2, 3], [3, 4], [4, 5], [4, 6], [6, 7], [7, 8], [4, 9], [9, 10], [10, 11], [5, 12], [12, 13], [13, 14], [5, 15], [15, 16], [16, 17]]}, {\"id\": 7, \"name\": \"arctic fox\", \"supercategory\": \"Canidae\", \"keypoints\": [\"left_eye\", \"right_eye\", \"nose\", \"neck\", \"root_of_tail\", \"left_shoulder\", \"left_elbow\", \"left_front_paw\", \"right_shoulder\", \"right_elbow\", \"right_front_paw\", \"left_hip\", \"left_knee\", \"left_back_paw\", \"right_hip\", \"right_knee\", \"right_back_paw\"], \"skeleton\": [[1, 2], [1, 3], [2, 3], [3, 4], [4, 5], [4, 6], [6, 7], [7, 8], [4, 9], [9, 10], [10, 11], [5, 12], [12, 13], [13, 14], [5, 15], [15, 16], [16, 17]]}, {\"id\": 8, \"name\": \"dog\", \"supercategory\": \"Canidae\", \"keypoints\": [\"left_eye\", \"right_eye\", \"nose\", \"neck\", \"root_of_tail\", \"left_shoulder\", \"left_elbow\", \"left_front_paw\", \"right_shoulder\", \"right_elbow\", \"right_front_paw\", \"left_hip\", \"left_knee\", \"left_back_paw\", \"right_hip\", \"right_knee\", \"right_back_paw\"], \"skeleton\": [[1, 2], [1, 3], [2, 3], [3, 4], [4, 5], [4, 6], [6, 7], [7, 8], [4, 9], [9, 10], [10, 11], [5, 12], [12, 13], [13, 14], [5, 15], [15, 16], [16, 17]]}, {\"id\": 9, \"name\": \"fox\", \"supercategory\": \"Canidae\", \"keypoints\": [\"left_eye\", \"right_eye\", \"nose\", \"neck\", \"root_of_tail\", \"left_shoulder\", \"left_elbow\", \"left_front_paw\", \"right_shoulder\", \"right_elbow\", \"right_front_paw\", \"left_hip\", \"left_knee\", \"left_back_paw\", \"right_hip\", \"right_knee\", \"right_back_paw\"], \"skeleton\": [[1, 2], [1, 3], [2, 3], [3, 4], [4, 5], [4, 6], [6, 7], [7, 8], [4, 9], [9, 10], [10, 11], [5, 12], [12, 13], [13, 14], [5, 15], [15, 16], [16, 17]]}, {\"id\": 10, \"name\": \"wolf\", \"supercategory\": \"Canidae\", \"keypoints\": [\"left_eye\", \"right_eye\", \"nose\", \"neck\", \"root_of_tail\", \"left_shoulder\", \"left_elbow\", \"left_front_paw\", \"right_shoulder\", \"right_elbow\", \"right_front_paw\", \"left_hip\", \"left_knee\", \"left_back_paw\", \"right_hip\", \"right_knee\", \"right_back_paw\"], \"skeleton\": [[1, 2], [1, 3], [2, 3], [3, 4], [4, 5], [4, 6], [6, 7], [7, 8], [4, 9], [9, 10], [10, 11], [5, 12], [12, 13], [13, 14], [5, 15], [15, 16], [16, 17]]}, {\"id\": 11, \"name\": \"beaver\", \"supercategory\": \"Castoridae\", \"keypoints\": [\"left_eye\", \"right_eye\", \"nose\", \"neck\", \"root_of_tail\", \"left_shoulder\", \"left_elbow\", \"left_front_paw\", \"right_shoulder\", \"right_elbow\", \"right_front_paw\", \"left_hip\", \"left_knee\", \"left_back_paw\", \"right_hip\", \"right_knee\", \"right_back_paw\"], \"skeleton\": [[1, 2], [1, 3], [2, 3], [3, 4], [4, 5], [4, 6], [6, 7], [7, 8], [4, 9], [9, 10], [10, 11], [5, 12], [12, 13], [13, 14], [5, 15], [15, 16], [16, 17]]}, {\"id\": 12, \"name\": \"alouatta\", \"supercategory\": \"Cercopithecidae\", \"keypoints\": [\"left_eye\", \"right_eye\", \"nose\", \"neck\", \"root_of_tail\", \"left_shoulder\", \"left_elbow\", \"left_front_paw\", \"right_shoulder\", \"right_elbow\", \"right_front_paw\", \"left_hip\", \"left_knee\", \"left_back_paw\", \"right_hip\", \"right_knee\", \"right_back_paw\"], \"skeleton\": [[1, 2], [1, 3], [2, 3], [3, 4], [4, 5], [4, 6], [6, 7], [7, 8], [4, 9], [9, 10], [10, 11], [5, 12], [12, 13], [13, 14], [5, 15], [15, 16], [16, 17]]}, {\"id\": 13, \"name\": \"monkey\", \"supercategory\": \"Cercopithecidae\", \"keypoints\": [\"left_eye\", \"right_eye\", \"nose\", \"neck\", \"root_of_tail\", \"left_shoulder\", \"left_elbow\", \"left_front_paw\", \"right_shoulder\", \"right_elbow\", \"right_front_paw\", \"left_hip\", \"left_knee\", \"left_back_paw\", \"right_hip\", \"right_knee\", \"right_back_paw\"], \"skeleton\": [[1, 2], [1, 3], [2, 3], [3, 4], [4, 5], [4, 6], [6, 7], [7, 8], [4, 9], [9, 10], [10, 11], [5, 12], [12, 13], [13, 14], [5, 15], [15, 16], [16, 17]]}, {\"id\": 14, \"name\": \"noisy night monkey\", \"supercategory\": \"Cercopithecidae\", \"keypoints\": [\"left_eye\", \"right_eye\", \"nose\", \"neck\", \"root_of_tail\", \"left_shoulder\", \"left_elbow\", \"left_front_paw\", \"right_shoulder\", \"right_elbow\", \"right_front_paw\", \"left_hip\", \"left_knee\", \"left_back_paw\", \"right_hip\", \"right_knee\", \"right_back_paw\"], \"skeleton\": [[1, 2], [1, 3], [2, 3], [3, 4], [4, 5], [4, 6], [6, 7], [7, 8], [4, 9], [9, 10], [10, 11], [5, 12], [12, 13], [13, 14], [5, 15], [15, 16], [16, 17]]}, {\"id\": 15, \"name\": \"spider monkey\", \"supercategory\": \"Cercopithecidae\", \"keypoints\": [\"left_eye\", \"right_eye\", \"nose\", \"neck\", \"root_of_tail\", \"left_shoulder\", \"left_elbow\", \"left_front_paw\", \"right_shoulder\", \"right_elbow\", \"right_front_paw\", \"left_hip\", \"left_knee\", \"left_back_paw\", \"right_hip\", \"right_knee\", \"right_back_paw\"], \"skeleton\": [[1, 2], [1, 3], [2, 3], [3, 4], [4, 5], [4, 6], [6, 7], [7, 8], [4, 9], [9, 10], [10, 11], [5, 12], [12, 13], [13, 14], [5, 15], [15, 16], [16, 17]]}, {\"id\": 16, \"name\": \"uakari\", \"supercategory\": \"Cercopithecidae\", \"keypoints\": [\"left_eye\", \"right_eye\", \"nose\", \"neck\", \"root_of_tail\", \"left_shoulder\", \"left_elbow\", \"left_front_paw\", \"right_shoulder\", \"right_elbow\", \"right_front_paw\", \"left_hip\", \"left_knee\", \"left_back_paw\", \"right_hip\", \"right_knee\", \"right_back_paw\"], \"skeleton\": [[1, 2], [1, 3], [2, 3], [3, 4], [4, 5], [4, 6], [6, 7], [7, 8], [4, 9], [9, 10], [10, 11], [5, 12], [12, 13], [13, 14], [5, 15], [15, 16], [16, 17]]}, {\"id\": 17, \"name\": \"deer\", \"supercategory\": \"Cervidae\", \"keypoints\": [\"left_eye\", \"right_eye\", \"nose\", \"neck\", \"root_of_tail\", \"left_shoulder\", \"left_elbow\", \"left_front_paw\", \"right_shoulder\", \"right_elbow\", \"right_front_paw\", \"left_hip\", \"left_knee\", \"left_back_paw\", \"right_hip\", \"right_knee\", \"right_back_paw\"], \"skeleton\": [[1, 2], [1, 3], [2, 3], [3, 4], [4, 5], [4, 6], [6, 7], [7, 8], [4, 9], [9, 10], [10, 11], [5, 12], [12, 13], [13, 14], [5, 15], [15, 16], [16, 17]]}, {\"id\": 18, \"name\": \"moose\", \"supercategory\": \"Cervidae\", \"keypoints\": [\"left_eye\", \"right_eye\", \"nose\", \"neck\", \"root_of_tail\", \"left_shoulder\", \"left_elbow\", \"left_front_paw\", \"right_shoulder\", \"right_elbow\", \"right_front_paw\", \"left_hip\", \"left_knee\", \"left_back_paw\", \"right_hip\", \"right_knee\", \"right_back_paw\"], \"skeleton\": [[1, 2], [1, 3], [2, 3], [3, 4], [4, 5], [4, 6], [6, 7], [7, 8], [4, 9], [9, 10], [10, 11], [5, 12], [12, 13], [13, 14], [5, 15], [15, 16], [16, 17]]}, {\"id\": 19, \"name\": \"hamster\", \"supercategory\": \"Cricetidae\", \"keypoints\": [\"left_eye\", \"right_eye\", \"nose\", \"neck\", \"root_of_tail\", \"left_shoulder\", \"left_elbow\", \"left_front_paw\", \"right_shoulder\", \"right_elbow\", \"right_front_paw\", \"left_hip\", \"left_knee\", \"left_back_paw\", \"right_hip\", \"right_knee\", \"right_back_paw\"], \"skeleton\": [[1, 2], [1, 3], [2, 3], [3, 4], [4, 5], [4, 6], [6, 7], [7, 8], [4, 9], [9, 10], [10, 11], [5, 12], [12, 13], [13, 14], [5, 15], [15, 16], [16, 17]]}, {\"id\": 20, \"name\": \"elephant\", \"supercategory\": \"Elephantidae\", \"keypoints\": [\"left_eye\", \"right_eye\", \"nose\", \"neck\", \"root_of_tail\", \"left_shoulder\", \"left_elbow\", \"left_front_paw\", \"right_shoulder\", \"right_elbow\", \"right_front_paw\", \"left_hip\", \"left_knee\", \"left_back_paw\", \"right_hip\", \"right_knee\", \"right_back_paw\"], \"skeleton\": [[1, 2], [1, 3], [2, 3], [3, 4], [4, 5], [4, 6], [6, 7], [7, 8], [4, 9], [9, 10], [10, 11], [5, 12], [12, 13], [13, 14], [5, 15], [15, 16], [16, 17]]}, {\"id\": 21, \"name\": \"horse\", \"supercategory\": \"Equidae\", \"keypoints\": [\"left_eye\", \"right_eye\", \"nose\", \"neck\", \"root_of_tail\", \"left_shoulder\", \"left_elbow\", \"left_front_paw\", \"right_shoulder\", \"right_elbow\", \"right_front_paw\", \"left_hip\", \"left_knee\", \"left_back_paw\", \"right_hip\", \"right_knee\", \"right_back_paw\"], \"skeleton\": [[1, 2], [1, 3], [2, 3], [3, 4], [4, 5], [4, 6], [6, 7], [7, 8], [4, 9], [9, 10], [10, 11], [5, 12], [12, 13], [13, 14], [5, 15], [15, 16], [16, 17]]}, {\"id\": 22, \"name\": \"zebra\", \"supercategory\": \"Equidae\", \"keypoints\": [\"left_eye\", \"right_eye\", \"nose\", \"neck\", \"root_of_tail\", \"left_shoulder\", \"left_elbow\", \"left_front_paw\", \"right_shoulder\", \"right_elbow\", \"right_front_paw\", \"left_hip\", \"left_knee\", \"left_back_paw\", \"right_hip\", \"right_knee\", \"right_back_paw\"], \"skeleton\": [[1, 2], [1, 3], [2, 3], [3, 4], [4, 5], [4, 6], [6, 7], [7, 8], [4, 9], [9, 10], [10, 11], [5, 12], [12, 13], [13, 14], [5, 15], [15, 16], [16, 17]]}, {\"id\": 23, \"name\": \"bobcat\", \"supercategory\": \"Felidae\", \"keypoints\": [\"left_eye\", \"right_eye\", \"nose\", \"neck\", \"root_of_tail\", \"left_shoulder\", \"left_elbow\", \"left_front_paw\", \"right_shoulder\", \"right_elbow\", \"right_front_paw\", \"left_hip\", \"left_knee\", \"left_back_paw\", \"right_hip\", \"right_knee\", \"right_back_paw\"], \"skeleton\": [[1, 2], [1, 3], [2, 3], [3, 4], [4, 5], [4, 6], [6, 7], [7, 8], [4, 9], [9, 10], [10, 11], [5, 12], [12, 13], [13, 14], [5, 15], [15, 16], [16, 17]]}, {\"id\": 24, \"name\": \"cat\", \"supercategory\": \"Felidae\", \"keypoints\": [\"left_eye\", \"right_eye\", \"nose\", \"neck\", \"root_of_tail\", \"left_shoulder\", \"left_elbow\", \"left_front_paw\", \"right_shoulder\", \"right_elbow\", \"right_front_paw\", \"left_hip\", \"left_knee\", \"left_back_paw\", \"right_hip\", \"right_knee\", \"right_back_paw\"], \"skeleton\": [[1, 2], [1, 3], [2, 3], [3, 4], [4, 5], [4, 6], [6, 7], [7, 8], [4, 9], [9, 10], [10, 11], [5, 12], [12, 13], [13, 14], [5, 15], [15, 16], [16, 17]]}, {\"id\": 25, \"name\": \"cheetah\", \"supercategory\": \"Felidae\", \"keypoints\": [\"left_eye\", \"right_eye\", \"nose\", \"neck\", \"root_of_tail\", \"left_shoulder\", \"left_elbow\", \"left_front_paw\", \"right_shoulder\", \"right_elbow\", \"right_front_paw\", \"left_hip\", \"left_knee\", \"left_back_paw\", \"right_hip\", \"right_knee\", \"right_back_paw\"], \"skeleton\": [[1, 2], [1, 3], [2, 3], [3, 4], [4, 5], [4, 6], [6, 7], [7, 8], [4, 9], [9, 10], [10, 11], [5, 12], [12, 13], [13, 14], [5, 15], [15, 16], [16, 17]]}, {\"id\": 26, \"name\": \"jaguar\", \"supercategory\": \"Felidae\", \"keypoints\": [\"left_eye\", \"right_eye\", \"nose\", \"neck\", \"root_of_tail\", \"left_shoulder\", \"left_elbow\", \"left_front_paw\", \"right_shoulder\", \"right_elbow\", \"right_front_paw\", \"left_hip\", \"left_knee\", \"left_back_paw\", \"right_hip\", \"right_knee\", \"right_back_paw\"], \"skeleton\": [[1, 2], [1, 3], [2, 3], [3, 4], [4, 5], [4, 6], [6, 7], [7, 8], [4, 9], [9, 10], [10, 11], [5, 12], [12, 13], [13, 14], [5, 15], [15, 16], [16, 17]]}, {\"id\": 27, \"name\": \"king cheetah\", \"supercategory\": \"Felidae\", \"keypoints\": [\"left_eye\", \"right_eye\", \"nose\", \"neck\", \"root_of_tail\", \"left_shoulder\", \"left_elbow\", \"left_front_paw\", \"right_shoulder\", \"right_elbow\", \"right_front_paw\", \"left_hip\", \"left_knee\", \"left_back_paw\", \"right_hip\", \"right_knee\", \"right_back_paw\"], \"skeleton\": [[1, 2], [1, 3], [2, 3], [3, 4], [4, 5], [4, 6], [6, 7], [7, 8], [4, 9], [9, 10], [10, 11], [5, 12], [12, 13], [13, 14], [5, 15], [15, 16], [16, 17]]}, {\"id\": 28, \"name\": \"leopard\", \"supercategory\": \"Felidae\", \"keypoints\": [\"left_eye\", \"right_eye\", \"nose\", \"neck\", \"root_of_tail\", \"left_shoulder\", \"left_elbow\", \"left_front_paw\", \"right_shoulder\", \"right_elbow\", \"right_front_paw\", \"left_hip\", \"left_knee\", \"left_back_paw\", \"right_hip\", \"right_knee\", \"right_back_paw\"], \"skeleton\": [[1, 2], [1, 3], [2, 3], [3, 4], [4, 5], [4, 6], [6, 7], [7, 8], [4, 9], [9, 10], [10, 11], [5, 12], [12, 13], [13, 14], [5, 15], [15, 16], [16, 17]]}, {\"id\": 29, \"name\": \"lion\", \"supercategory\": \"Felidae\", \"keypoints\": [\"left_eye\", \"right_eye\", \"nose\", \"neck\", \"root_of_tail\", \"left_shoulder\", \"left_elbow\", \"left_front_paw\", \"right_shoulder\", \"right_elbow\", \"right_front_paw\", \"left_hip\", \"left_knee\", \"left_back_paw\", \"right_hip\", \"right_knee\", \"right_back_paw\"], \"skeleton\": [[1, 2], [1, 3], [2, 3], [3, 4], [4, 5], [4, 6], [6, 7], [7, 8], [4, 9], [9, 10], [10, 11], [5, 12], [12, 13], [13, 14], [5, 15], [15, 16], [16, 17]]}, {\"id\": 30, \"name\": \"panther\", \"supercategory\": \"Felidae\", \"keypoints\": [\"left_eye\", \"right_eye\", \"nose\", \"neck\", \"root_of_tail\", \"left_shoulder\", \"left_elbow\", \"left_front_paw\", \"right_shoulder\", \"right_elbow\", \"right_front_paw\", \"left_hip\", \"left_knee\", \"left_back_paw\", \"right_hip\", \"right_knee\", \"right_back_paw\"], \"skeleton\": [[1, 2], [1, 3], [2, 3], [3, 4], [4, 5], [4, 6], [6, 7], [7, 8], [4, 9], [9, 10], [10, 11], [5, 12], [12, 13], [13, 14], [5, 15], [15, 16], [16, 17]]}, {\"id\": 31, \"name\": \"snow leopard\", \"supercategory\": \"Felidae\", \"keypoints\": [\"left_eye\", \"right_eye\", \"nose\", \"neck\", \"root_of_tail\", \"left_shoulder\", \"left_elbow\", \"left_front_paw\", \"right_shoulder\", \"right_elbow\", \"right_front_paw\", \"left_hip\", \"left_knee\", \"left_back_paw\", \"right_hip\", \"right_knee\", \"right_back_paw\"], \"skeleton\": [[1, 2], [1, 3], [2, 3], [3, 4], [4, 5], [4, 6], [6, 7], [7, 8], [4, 9], [9, 10], [10, 11], [5, 12], [12, 13], [13, 14], [5, 15], [15, 16], [16, 17]]}, {\"id\": 32, \"name\": \"tiger\", \"supercategory\": \"Felidae\", \"keypoints\": [\"left_eye\", \"right_eye\", \"nose\", \"neck\", \"root_of_tail\", \"left_shoulder\", \"left_elbow\", \"left_front_paw\", \"right_shoulder\", \"right_elbow\", \"right_front_paw\", \"left_hip\", \"left_knee\", \"left_back_paw\", \"right_hip\", \"right_knee\", \"right_back_paw\"], \"skeleton\": [[1, 2], [1, 3], [2, 3], [3, 4], [4, 5], [4, 6], [6, 7], [7, 8], [4, 9], [9, 10], [10, 11], [5, 12], [12, 13], [13, 14], [5, 15], [15, 16], [16, 17]]}, {\"id\": 33, \"name\": \"giraffe\", \"supercategory\": \"Giraffidae\", \"keypoints\": [\"left_eye\", \"right_eye\", \"nose\", \"neck\", \"root_of_tail\", \"left_shoulder\", \"left_elbow\", \"left_front_paw\", \"right_shoulder\", \"right_elbow\", \"right_front_paw\", \"left_hip\", \"left_knee\", \"left_back_paw\", \"right_hip\", \"right_knee\", \"right_back_paw\"], \"skeleton\": [[1, 2], [1, 3], [2, 3], [3, 4], [4, 5], [4, 6], [6, 7], [7, 8], [4, 9], [9, 10], [10, 11], [5, 12], [12, 13], [13, 14], [5, 15], [15, 16], [16, 17]]}, {\"id\": 34, \"name\": \"hippo\", \"supercategory\": \"Hippopotamidae\", \"keypoints\": [\"left_eye\", \"right_eye\", \"nose\", \"neck\", \"root_of_tail\", \"left_shoulder\", \"left_elbow\", \"left_front_paw\", \"right_shoulder\", \"right_elbow\", \"right_front_paw\", \"left_hip\", \"left_knee\", \"left_back_paw\", \"right_hip\", \"right_knee\", \"right_back_paw\"], \"skeleton\": [[1, 2], [1, 3], [2, 3], [3, 4], [4, 5], [4, 6], [6, 7], [7, 8], [4, 9], [9, 10], [10, 11], [5, 12], [12, 13], [13, 14], [5, 15], [15, 16], [16, 17]]}, {\"id\": 35, \"name\": \"chimpanzee\", \"supercategory\": \"Hominidae\", \"keypoints\": [\"left_eye\", \"right_eye\", \"nose\", \"neck\", \"root_of_tail\", \"left_shoulder\", \"left_elbow\", \"left_front_paw\", \"right_shoulder\", \"right_elbow\", \"right_front_paw\", \"left_hip\", \"left_knee\", \"left_back_paw\", \"right_hip\", \"right_knee\", \"right_back_paw\"], \"skeleton\": [[1, 2], [1, 3], [2, 3], [3, 4], [4, 5], [4, 6], [6, 7], [7, 8], [4, 9], [9, 10], [10, 11], [5, 12], [12, 13], [13, 14], [5, 15], [15, 16], [16, 17]]}, {\"id\": 36, \"name\": \"gorilla\", \"supercategory\": \"Hominidae\", \"keypoints\": [\"left_eye\", \"right_eye\", \"nose\", \"neck\", \"root_of_tail\", \"left_shoulder\", \"left_elbow\", \"left_front_paw\", \"right_shoulder\", \"right_elbow\", \"right_front_paw\", \"left_hip\", \"left_knee\", \"left_back_paw\", \"right_hip\", \"right_knee\", \"right_back_paw\"], \"skeleton\": [[1, 2], [1, 3], [2, 3], [3, 4], [4, 5], [4, 6], [6, 7], [7, 8], [4, 9], [9, 10], [10, 11], [5, 12], [12, 13], [13, 14], [5, 15], [15, 16], [16, 17]]}, {\"id\": 37, \"name\": \"orangutan\", \"supercategory\": \"Hominidae\", \"keypoints\": [\"left_eye\", \"right_eye\", \"nose\", \"neck\", \"root_of_tail\", \"left_shoulder\", \"left_elbow\", \"left_front_paw\", \"right_shoulder\", \"right_elbow\", \"right_front_paw\", \"left_hip\", \"left_knee\", \"left_back_paw\", \"right_hip\", \"right_knee\", \"right_back_paw\"], \"skeleton\": [[1, 2], [1, 3], [2, 3], [3, 4], [4, 5], [4, 6], [6, 7], [7, 8], [4, 9], [9, 10], [10, 11], [5, 12], [12, 13], [13, 14], [5, 15], [15, 16], [16, 17]]}, {\"id\": 38, \"name\": \"rabbit\", \"supercategory\": \"Leporidae\", \"keypoints\": [\"left_eye\", \"right_eye\", \"nose\", \"neck\", \"root_of_tail\", \"left_shoulder\", \"left_elbow\", \"left_front_paw\", \"right_shoulder\", \"right_elbow\", \"right_front_paw\", \"left_hip\", \"left_knee\", \"left_back_paw\", \"right_hip\", \"right_knee\", \"right_back_paw\"], \"skeleton\": [[1, 2], [1, 3], [2, 3], [3, 4], [4, 5], [4, 6], [6, 7], [7, 8], [4, 9], [9, 10], [10, 11], [5, 12], [12, 13], [13, 14], [5, 15], [15, 16], [16, 17]]}, {\"id\": 39, \"name\": \"skunk\", \"supercategory\": \"Mephitidae\", \"keypoints\": [\"left_eye\", \"right_eye\", \"nose\", \"neck\", \"root_of_tail\", \"left_shoulder\", \"left_elbow\", \"left_front_paw\", \"right_shoulder\", \"right_elbow\", \"right_front_paw\", \"left_hip\", \"left_knee\", \"left_back_paw\", \"right_hip\", \"right_knee\", \"right_back_paw\"], \"skeleton\": [[1, 2], [1, 3], [2, 3], [3, 4], [4, 5], [4, 6], [6, 7], [7, 8], [4, 9], [9, 10], [10, 11], [5, 12], [12, 13], [13, 14], [5, 15], [15, 16], [16, 17]]}, {\"id\": 40, \"name\": \"mouse\", \"supercategory\": \"Muridae\", \"keypoints\": [\"left_eye\", \"right_eye\", \"nose\", \"neck\", \"root_of_tail\", \"left_shoulder\", \"left_elbow\", \"left_front_paw\", \"right_shoulder\", \"right_elbow\", \"right_front_paw\", \"left_hip\", \"left_knee\", \"left_back_paw\", \"right_hip\", \"right_knee\", \"right_back_paw\"], \"skeleton\": [[1, 2], [1, 3], [2, 3], [3, 4], [4, 5], [4, 6], [6, 7], [7, 8], [4, 9], [9, 10], [10, 11], [5, 12], [12, 13], [13, 14], [5, 15], [15, 16], [16, 17]]}, {\"id\": 41, \"name\": \"rat\", \"supercategory\": \"Muridae\", \"keypoints\": [\"left_eye\", \"right_eye\", \"nose\", \"neck\", \"root_of_tail\", \"left_shoulder\", \"left_elbow\", \"left_front_paw\", \"right_shoulder\", \"right_elbow\", \"right_front_paw\", \"left_hip\", \"left_knee\", \"left_back_paw\", \"right_hip\", \"right_knee\", \"right_back_paw\"], \"skeleton\": [[1, 2], [1, 3], [2, 3], [3, 4], [4, 5], [4, 6], [6, 7], [7, 8], [4, 9], [9, 10], [10, 11], [5, 12], [12, 13], [13, 14], [5, 15], [15, 16], [16, 17]]}, {\"id\": 42, \"name\": \"otter\", \"supercategory\": \"Mustelidae\", \"keypoints\": [\"left_eye\", \"right_eye\", \"nose\", \"neck\", \"root_of_tail\", \"left_shoulder\", \"left_elbow\", \"left_front_paw\", \"right_shoulder\", \"right_elbow\", \"right_front_paw\", \"left_hip\", \"left_knee\", \"left_back_paw\", \"right_hip\", \"right_knee\", \"right_back_paw\"], \"skeleton\": [[1, 2], [1, 3], [2, 3], [3, 4], [4, 5], [4, 6], [6, 7], [7, 8], [4, 9], [9, 10], [10, 11], [5, 12], [12, 13], [13, 14], [5, 15], [15, 16], [16, 17]]}, {\"id\": 43, \"name\": \"weasel\", \"supercategory\": \"Mustelidae\", \"keypoints\": [\"left_eye\", \"right_eye\", \"nose\", \"neck\", \"root_of_tail\", \"left_shoulder\", \"left_elbow\", \"left_front_paw\", \"right_shoulder\", \"right_elbow\", \"right_front_paw\", \"left_hip\", \"left_knee\", \"left_back_paw\", \"right_hip\", \"right_knee\", \"right_back_paw\"], \"skeleton\": [[1, 2], [1, 3], [2, 3], [3, 4], [4, 5], [4, 6], [6, 7], [7, 8], [4, 9], [9, 10], [10, 11], [5, 12], [12, 13], [13, 14], [5, 15], [15, 16], [16, 17]]}, {\"id\": 44, \"name\": \"raccoon\", \"supercategory\": \"Procyonidae\", \"keypoints\": [\"left_eye\", \"right_eye\", \"nose\", \"neck\", \"root_of_tail\", \"left_shoulder\", \"left_elbow\", \"left_front_paw\", \"right_shoulder\", \"right_elbow\", \"right_front_paw\", \"left_hip\", \"left_knee\", \"left_back_paw\", \"right_hip\", \"right_knee\", \"right_back_paw\"], \"skeleton\": [[1, 2], [1, 3], [2, 3], [3, 4], [4, 5], [4, 6], [6, 7], [7, 8], [4, 9], [9, 10], [10, 11], [5, 12], [12, 13], [13, 14], [5, 15], [15, 16], [16, 17]]}, {\"id\": 45, \"name\": \"rhino\", \"supercategory\": \"Rhinocerotidae\", \"keypoints\": [\"left_eye\", \"right_eye\", \"nose\", \"neck\", \"root_of_tail\", \"left_shoulder\", \"left_elbow\", \"left_front_paw\", \"right_shoulder\", \"right_elbow\", \"right_front_paw\", \"left_hip\", \"left_knee\", \"left_back_paw\", \"right_hip\", \"right_knee\", \"right_back_paw\"], \"skeleton\": [[1, 2], [1, 3], [2, 3], [3, 4], [4, 5], [4, 6], [6, 7], [7, 8], [4, 9], [9, 10], [10, 11], [5, 12], [12, 13], [13, 14], [5, 15], [15, 16], [16, 17]]}, {\"id\": 46, \"name\": \"marmot\", \"supercategory\": \"Sciuridae\", \"keypoints\": [\"left_eye\", \"right_eye\", \"nose\", \"neck\", \"root_of_tail\", \"left_shoulder\", \"left_elbow\", \"left_front_paw\", \"right_shoulder\", \"right_elbow\", \"right_front_paw\", \"left_hip\", \"left_knee\", \"left_back_paw\", \"right_hip\", \"right_knee\", \"right_back_paw\"], \"skeleton\": [[1, 2], [1, 3], [2, 3], [3, 4], [4, 5], [4, 6], [6, 7], [7, 8], [4, 9], [9, 10], [10, 11], [5, 12], [12, 13], [13, 14], [5, 15], [15, 16], [16, 17]]}, {\"id\": 47, \"name\": \"squirrel\", \"supercategory\": \"Sciuridae\", \"keypoints\": [\"left_eye\", \"right_eye\", \"nose\", \"neck\", \"root_of_tail\", \"left_shoulder\", \"left_elbow\", \"left_front_paw\", \"right_shoulder\", \"right_elbow\", \"right_front_paw\", \"left_hip\", \"left_knee\", \"left_back_paw\", \"right_hip\", \"right_knee\", \"right_back_paw\"], \"skeleton\": [[1, 2], [1, 3], [2, 3], [3, 4], [4, 5], [4, 6], [6, 7], [7, 8], [4, 9], [9, 10], [10, 11], [5, 12], [12, 13], [13, 14], [5, 15], [15, 16], [16, 17]]}, {\"id\": 48, \"name\": \"pig\", \"supercategory\": \"Suidae\", \"keypoints\": [\"left_eye\", \"right_eye\", \"nose\", \"neck\", \"root_of_tail\", \"left_shoulder\", \"left_elbow\", \"left_front_paw\", \"right_shoulder\", \"right_elbow\", \"right_front_paw\", \"left_hip\", \"left_knee\", \"left_back_paw\", \"right_hip\", \"right_knee\", \"right_back_paw\"], \"skeleton\": [[1, 2], [1, 3], [2, 3], [3, 4], [4, 5], [4, 6], [6, 7], [7, 8], [4, 9], [9, 10], [10, 11], [5, 12], [12, 13], [13, 14], [5, 15], [15, 16], [16, 17]]}, {\"id\": 49, \"name\": \"mole\", \"supercategory\": \"Talpidae\", \"keypoints\": [\"left_eye\", \"right_eye\", \"nose\", \"neck\", \"root_of_tail\", \"left_shoulder\", \"left_elbow\", \"left_front_paw\", \"right_shoulder\", \"right_elbow\", \"right_front_paw\", \"left_hip\", \"left_knee\", \"left_back_paw\", \"right_hip\", \"right_knee\", \"right_back_paw\"], \"skeleton\": [[1, 2], [1, 3], [2, 3], [3, 4], [4, 5], [4, 6], [6, 7], [7, 8], [4, 9], [9, 10], [10, 11], [5, 12], [12, 13], [13, 14], [5, 15], [15, 16], [16, 17]]}, {\"id\": 50, \"name\": \"black bear\", \"supercategory\": \"Ursidae\", \"keypoints\": [\"left_eye\", \"right_eye\", \"nose\", \"neck\", \"root_of_tail\", \"left_shoulder\", \"left_elbow\", \"left_front_paw\", \"right_shoulder\", \"right_elbow\", \"right_front_paw\", \"left_hip\", \"left_knee\", \"left_back_paw\", \"right_hip\", \"right_knee\", \"right_back_paw\"], \"skeleton\": [[1, 2], [1, 3], [2, 3], [3, 4], [4, 5], [4, 6], [6, 7], [7, 8], [4, 9], [9, 10], [10, 11], [5, 12], [12, 13], [13, 14], [5, 15], [15, 16], [16, 17]]}, {\"id\": 51, \"name\": \"brown bear\", \"supercategory\": \"Ursidae\", \"keypoints\": [\"left_eye\", \"right_eye\", \"nose\", \"neck\", \"root_of_tail\", \"left_shoulder\", \"left_elbow\", \"left_front_paw\", \"right_shoulder\", \"right_elbow\", \"right_front_paw\", \"left_hip\", \"left_knee\", \"left_back_paw\", \"right_hip\", \"right_knee\", \"right_back_paw\"], \"skeleton\": [[1, 2], [1, 3], [2, 3], [3, 4], [4, 5], [4, 6], [6, 7], [7, 8], [4, 9], [9, 10], [10, 11], [5, 12], [12, 13], [13, 14], [5, 15], [15, 16], [16, 17]]}, {\"id\": 52, \"name\": \"panda\", \"supercategory\": \"Ursidae\", \"keypoints\": [\"left_eye\", \"right_eye\", \"nose\", \"neck\", \"root_of_tail\", \"left_shoulder\", \"left_elbow\", \"left_front_paw\", \"right_shoulder\", \"right_elbow\", \"right_front_paw\", \"left_hip\", \"left_knee\", \"left_back_paw\", \"right_hip\", \"right_knee\", \"right_back_paw\"], \"skeleton\": [[1, 2], [1, 3], [2, 3], [3, 4], [4, 5], [4, 6], [6, 7], [7, 8], [4, 9], [9, 10], [10, 11], [5, 12], [12, 13], [13, 14], [5, 15], [15, 16], [16, 17]]}, {\"id\": 53, \"name\": \"polar bear\", \"supercategory\": \"Ursidae\", \"keypoints\": [\"left_eye\", \"right_eye\", \"nose\", \"neck\", \"root_of_tail\", \"left_shoulder\", \"left_elbow\", \"left_front_paw\", \"right_shoulder\", \"right_elbow\", \"right_front_paw\", \"left_hip\", \"left_knee\", \"left_back_paw\", \"right_hip\", \"right_knee\", \"right_back_paw\"], \"skeleton\": [[1, 2], [1, 3], [2, 3], [3, 4], [4, 5], [4, 6], [6, 7], [7, 8], [4, 9], [9, 10], [10, 11], [5, 12], [12, 13], [13, 14], [5, 15], [15, 16], [16, 17]]}, {\"id\": 54, \"name\": \"bat\", \"supercategory\": \"Vespertilionidae\", \"keypoints\": [\"left_eye\", \"right_eye\", \"nose\", \"neck\", \"root_of_tail\", \"left_shoulder\", \"left_elbow\", \"left_front_paw\", \"right_shoulder\", \"right_elbow\", \"right_front_paw\", \"left_hip\", \"left_knee\", \"left_back_paw\", \"right_hip\", \"right_knee\", \"right_back_paw\"], \"skeleton\": [[1, 2], [1, 3], [2, 3], [3, 4], [4, 5], [4, 6], [6, 7], [7, 8], [4, 9], [9, 10], [10, 11], [5, 12], [12, 13], [13, 14], [5, 15], [15, 16], [16, 17]]}]"
   ]
  },
  {
   "cell_type": "code",
   "execution_count": 202,
   "metadata": {},
   "outputs": [
    {
     "data": {
      "text/plain": [
       "dict_keys(['info', 'licenses', 'images', 'annotations', 'categories'])"
      ]
     },
     "execution_count": 202,
     "metadata": {},
     "output_type": "execute_result"
    }
   ],
   "source": [
    "working.keys()"
   ]
  },
  {
   "cell_type": "code",
   "execution_count": 203,
   "metadata": {},
   "outputs": [],
   "source": [
    "json_object = json.dumps(working)\n",
    " \n",
    "# Writing to sample.json\n",
    "with open(\"annotations/ap10k-test-split1.json\", \"w\") as outfile:\n",
    "    outfile.write(json_object)"
   ]
  },
  {
   "cell_type": "code",
   "execution_count": 204,
   "metadata": {},
   "outputs": [
    {
     "data": {
      "text/plain": [
       "2549"
      ]
     },
     "execution_count": 204,
     "metadata": {},
     "output_type": "execute_result"
    }
   ],
   "source": [
    "coords.id.nunique()"
   ]
  },
  {
   "cell_type": "code",
   "execution_count": null,
   "metadata": {},
   "outputs": [],
   "source": []
  }
 ],
 "metadata": {
  "kernelspec": {
   "display_name": "Python 3.8.13 ('snorkel')",
   "language": "python",
   "name": "python3"
  },
  "language_info": {
   "codemirror_mode": {
    "name": "ipython",
    "version": 3
   },
   "file_extension": ".py",
   "mimetype": "text/x-python",
   "name": "python",
   "nbconvert_exporter": "python",
   "pygments_lexer": "ipython3",
   "version": "3.8.13"
  },
  "orig_nbformat": 4,
  "vscode": {
   "interpreter": {
    "hash": "6551e83ef1e8c8a4fcbd816d14f181982232cb6db2c46ccd8edb5b4d6120005b"
   }
  }
 },
 "nbformat": 4,
 "nbformat_minor": 2
}
