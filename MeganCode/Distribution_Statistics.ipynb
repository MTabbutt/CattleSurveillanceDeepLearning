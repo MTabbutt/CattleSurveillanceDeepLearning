{
 "cells": [
  {
   "cell_type": "code",
   "execution_count": null,
   "id": "3988dd10",
   "metadata": {},
   "outputs": [],
   "source": [
    "import os\n",
    "import json\n",
    "import matplotlib.pyplot as plt"
   ]
  },
  {
   "cell_type": "code",
   "execution_count": null,
   "id": "2f2fb390",
   "metadata": {},
   "outputs": [],
   "source": [
    "path_labels = \"/Users/megantabbutt/Desktop/Computer Science Classes/762_AdvancedDeepLearning/\\\n",
    "762_Project/Data/random_frames_v1_256/labels_paper/labels_paper.json\"  "
   ]
  },
  {
   "cell_type": "code",
   "execution_count": null,
   "id": "40edd7bb",
   "metadata": {},
   "outputs": [],
   "source": []
  },
  {
   "cell_type": "code",
   "execution_count": null,
   "id": "553ef6e3",
   "metadata": {},
   "outputs": [],
   "source": [
    "label_file = open(path_labels)\n",
    "label_data = json.load(label_file)\n",
    "plt.hist(label_data.values())"
   ]
  },
  {
   "cell_type": "code",
   "execution_count": null,
   "id": "2545df85",
   "metadata": {},
   "outputs": [],
   "source": []
  }
 ],
 "metadata": {
  "kernelspec": {
   "display_name": "keras-CS762-env",
   "language": "python",
   "name": "keras-cs762-env"
  },
  "language_info": {
   "codemirror_mode": {
    "name": "ipython",
    "version": 3
   },
   "file_extension": ".py",
   "mimetype": "text/x-python",
   "name": "python",
   "nbconvert_exporter": "python",
   "pygments_lexer": "ipython3",
   "version": "3.7.12"
  }
 },
 "nbformat": 4,
 "nbformat_minor": 5
}
