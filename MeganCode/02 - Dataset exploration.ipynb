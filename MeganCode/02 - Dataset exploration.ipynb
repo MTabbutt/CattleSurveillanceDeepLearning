{
 "cells": [
  {
   "cell_type": "code",
   "execution_count": null,
   "metadata": {},
   "outputs": [],
   "source": [
    "## Change these variables to your desired values\n",
    "img_height = 256\n",
    "img_width = 256\n",
    "img_channels = 1\n",
    "\n",
    "\n",
    "label_names=['Human',\n",
    "         'Interaction frontal',\n",
    "         'Interaction lateral', \n",
    "         'Interaction vertical',\n",
    "         'Crowded', \n",
    "         'Drink',\n",
    "         'Curiosity', \n",
    "         'Queue',\n",
    "         'Low visibility', \n",
    "         'Nothing']\n",
    "\n",
    "path_labels = '../assets/labeled_photos/' # Where the labels are saved \n",
    "path_videos = '../assets/video_data' # Where the videos are saved \n",
    "out_path = 'assets/' # Where to save the outputs\n",
    "\n",
    "pointer_table_path = path_labels + 'pointer_table.json'"
   ]
  },
  {
   "cell_type": "code",
   "execution_count": null,
   "metadata": {},
   "outputs": [],
   "source": [
    "# Math manipulation\n",
    "import numpy as np\n",
    "import pandas as pd\n",
    "pd.set_option('display.max_columns', None)\n",
    "pd.set_option('display.max_rows', None)\n",
    "\n",
    "# Vizualization\n",
    "import seaborn as sns\n",
    "import matplotlib.pyplot as plt\n",
    "%matplotlib inline \n",
    "\n",
    "# Image processing\n",
    "import cv2\n",
    "\n",
    "# Utilities\n",
    "import os\n",
    "import random\n",
    "import gc\n",
    "from keras.preprocessing.image import ImageDataGenerator\n",
    "from keras.preprocessing.image import img_to_array, load_img\n",
    "from keras.utils import to_categorical\n",
    "import codecs, json \n",
    "import re"
   ]
  },
  {
   "cell_type": "code",
   "execution_count": null,
   "metadata": {},
   "outputs": [],
   "source": [
    "with open(pointer_table_path) as json_file: pt_table = json.load(json_file)\n",
    "raw = pd.DataFrame (data=pt_table)\n",
    "raw.head()"
   ]
  },
  {
   "cell_type": "code",
   "execution_count": null,
   "metadata": {},
   "outputs": [],
   "source": [
    "raw['Timestamp'] = pd.to_datetime(raw[0] + raw[1]/25 + 10800, utc=True, unit='s')\n",
    "raw = raw.set_index(raw.Timestamp)\n",
    "raw = raw.drop ([0, 1, 'Timestamp'], axis=1)\n",
    "\n",
    "raw = raw.set_index(raw.index.tz_convert(None) + pd.offsets.Hour(+3)) # correct to helsinki timezone\n",
    "raw.rename(columns={2: 'Class'}, inplace=True)\n",
    "\n",
    "raw.head()"
   ]
  },
  {
   "cell_type": "code",
   "execution_count": null,
   "metadata": {},
   "outputs": [],
   "source": [
    "day = 30\n",
    "lower_limit = '2019-09-' + str(day) + ' 08:00:00'\n",
    "upper_limit = '2019-09-' + str(day) + ' 10:00:00'\n",
    "\n",
    "raw[lower_limit:upper_limit].plot(figsize=(15,5), marker='|', markersize=3, linewidth=0)\n",
    "plt.gca().grid(True)\n",
    "plt.savefig(out_path + 'graph_temporal_one_video.eps')"
   ]
  },
  {
   "cell_type": "code",
   "execution_count": null,
   "metadata": {},
   "outputs": [],
   "source": [
    "day = 12\n",
    "lower_limit = '2019-10-' + str(day) + ' 00:00:00'\n",
    "upper_limit = '2019-10-' + str(day+1) + ' 00:00:00'\n",
    "\n",
    "raw[lower_limit:upper_limit].plot(figsize=(15,5), marker='x', linewidth=0)\n",
    "plt.gca().grid(True)\n",
    "plt.savefig(out_path + 'graph_temporal_one_day.eps')"
   ]
  },
  {
   "cell_type": "markdown",
   "metadata": {},
   "source": [
    "# Whole dataset statistics"
   ]
  },
  {
   "cell_type": "code",
   "execution_count": null,
   "metadata": {},
   "outputs": [],
   "source": [
    "def count_classes_full (list_of_videos, plot=True, verbose=True):\n",
    "    y = [] # labels\n",
    "\n",
    "    for filename in list_of_videos:\n",
    "        with open(filename) as json_file:\n",
    "            if verbose: print(filename)\n",
    "            if 'pointer_table' in filename: continue\n",
    "            y += json.load(json_file)[1:]\n",
    "        if verbose: print ('Dataset size: ', len(y))\n",
    "    if plot==True:\n",
    "        import matplotlib.ticker as ticker\n",
    "        y = np.array(y)\n",
    "        ncount = len(y)\n",
    "\n",
    "        plt.figure(figsize=(12,8))\n",
    "        ax = sns.countplot(y)\n",
    "\n",
    "        for p in ax.patches:\n",
    "            _x=p.get_bbox().get_points()[:,0]\n",
    "            _y=p.get_bbox().get_points()[1,1]\n",
    "            ax.annotate('{:.1f}%'.format(100.*_y/ncount), (_x.mean(), _y), \n",
    "                    ha='center', va='bottom') # set the alignment of the text\n",
    "\n",
    "        ax.yaxis.set_major_locator(ticker.LinearLocator(11))\n",
    "        ax.grid(axis='y')\n",
    "        n=0\n",
    "        for i in label_names:\n",
    "            print('Class ', n, ': ', i)\n",
    "            n+=1\n",
    "            \n",
    "    unique, counts = np.unique(y, return_counts=True)\n",
    "    return dict(zip(unique, counts))"
   ]
  },
  {
   "cell_type": "code",
   "execution_count": null,
   "metadata": {},
   "outputs": [],
   "source": [
    "list_of_videos = [path_labels + i for i in sorted(os.listdir(path_labels))]"
   ]
  },
  {
   "cell_type": "code",
   "execution_count": null,
   "metadata": {},
   "outputs": [],
   "source": [
    "count_classes_full(list_of_videos, verbose=False)\n",
    "plt.savefig(out_path + 'graph_count_classes.eps')"
   ]
  },
  {
   "cell_type": "code",
   "execution_count": null,
   "metadata": {
    "scrolled": false
   },
   "outputs": [],
   "source": [
    "def classes_per_day (list_of_videos):\n",
    "    videos=[]\n",
    "    days=[]\n",
    "    for filename in list_of_videos:\n",
    "        name = re.search(str(path_labels + '(.+?).json'), filename).group(1)\n",
    "        if 'pointer_table' in name: continue\n",
    "        videos.append(pd.to_datetime(int(name) + 10800, utc=True, unit='s').tz_convert(None) + pd.offsets.Hour(+3))\n",
    "        days.append(str(videos[-1].year)+'-'+str(videos[-1].month).zfill(2)+'-'+str(videos[-1].day).zfill(2))\n",
    "\n",
    "    unique, counts = np.unique(days, return_counts=True)\n",
    "    return dict(zip(unique, counts))\n",
    "    \n",
    "classes_per_day (list_of_videos)"
   ]
  },
  {
   "cell_type": "markdown",
   "metadata": {},
   "source": [
    "# Per video statistics"
   ]
  },
  {
   "cell_type": "code",
   "execution_count": null,
   "metadata": {},
   "outputs": [],
   "source": [
    "def video_statistics (list_of_videos, plot=True):\n",
    "    results = [] # labels\n",
    "\n",
    "    for filename in list_of_videos:\n",
    "        with open(filename) as json_file:\n",
    "            if 'pointer_table' in filename: continue\n",
    "            video = json.load(json_file)[1:]\n",
    "            \n",
    "        unique, counts = np.unique(video, return_counts=True)\n",
    "        results.append([len(video)/25, \n",
    "                        len(unique), \n",
    "                        int((1 in video) or (2 in video) or (3 in video)),\n",
    "                        int(0 in video)\n",
    "                       ])\n",
    "        \n",
    "    df = pd.DataFrame (results, columns=['duration_(s)', 'number_of_classes', 'have_interaction', 'have_human'])\n",
    "    return df"
   ]
  },
  {
   "cell_type": "code",
   "execution_count": null,
   "metadata": {},
   "outputs": [],
   "source": [
    "df = video_statistics (list_of_videos)"
   ]
  },
  {
   "cell_type": "code",
   "execution_count": null,
   "metadata": {},
   "outputs": [],
   "source": [
    "df.describe()"
   ]
  },
  {
   "cell_type": "code",
   "execution_count": null,
   "metadata": {},
   "outputs": [],
   "source": [
    "df['duration_(s)'].plot(kind='kde')"
   ]
  },
  {
   "cell_type": "code",
   "execution_count": null,
   "metadata": {
    "scrolled": true
   },
   "outputs": [],
   "source": [
    "plt.boxplot(df['duration_(s)'],showfliers=False)\n",
    "plt.tick_params(\n",
    "    axis='x',          # changes apply to the x-axis\n",
    "    which='both',      # both major and minor ticks are affected\n",
    "    bottom=False,      # ticks along the bottom edge are off\n",
    "    top=False,         # ticks along the top edge are off\n",
    "    labelbottom=False) # labels along the bottom edge are off\n",
    "ax = plt.gca()\n",
    "ax.yaxis.grid(True)\n",
    "plt.savefig(out_path + 'graph_duration_box_plot.eps')"
   ]
  },
  {
   "cell_type": "markdown",
   "metadata": {},
   "source": [
    "License: Creative Commons 4.0 Attribute"
   ]
  }
 ],
 "metadata": {
  "kernelspec": {
   "display_name": "Python 3",
   "language": "python",
   "name": "python3"
  },
  "language_info": {
   "codemirror_mode": {
    "name": "ipython",
    "version": 3
   },
   "file_extension": ".py",
   "mimetype": "text/x-python",
   "name": "python",
   "nbconvert_exporter": "python",
   "pygments_lexer": "ipython3",
   "version": "3.8.2"
  }
 },
 "nbformat": 4,
 "nbformat_minor": 2
}
