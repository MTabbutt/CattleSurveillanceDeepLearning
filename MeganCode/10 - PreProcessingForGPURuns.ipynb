{
 "cells": [
  {
   "cell_type": "markdown",
   "id": "a721f048",
   "metadata": {},
   "source": [
    "## Pre-Processing Notebook\n",
    "\n",
    "### Goals: \n",
    "- Need to degrade image resolution and grayscale test and train set before transfer onto GPU nodes to save space\n",
    "- Need to copy over the label files for the frames \n",
    "\n",
    "#### Author: Megan Tabbutt"
   ]
  },
  {
   "cell_type": "code",
   "execution_count": null,
   "id": "logical-scientist",
   "metadata": {},
   "outputs": [],
   "source": [
    "base_path = \"/Users/megantabbutt/Desktop/Computer Science Classes/762_AdvancedDeepLearning/762_Project/Data/\"\n",
    "images_paths = [\"random_frames_v1_fullRes/test/\", \"random_frames_v1_fullRes/train/\"]\n",
    "output_paths = [\"random_frames_v1_256/test/\", \"random_frames_v1_256/train/\"]\n",
    "\n",
    "img_height = 256\n",
    "img_width = 256"
   ]
  },
  {
   "cell_type": "code",
   "execution_count": null,
   "id": "4b4128f9",
   "metadata": {},
   "outputs": [],
   "source": [
    "import os\n",
    "import json\n",
    "import numpy as np\n",
    "import matplotlib.pyplot as plt\n",
    "import random\n",
    "import shutil\n",
    "\n",
    "# Image processing\n",
    "import cv2"
   ]
  },
  {
   "cell_type": "markdown",
   "id": "2f1f05b8",
   "metadata": {},
   "source": [
    "___ "
   ]
  },
  {
   "cell_type": "markdown",
   "id": "d2a419ce",
   "metadata": {},
   "source": [
    "## Image pre-prosessing to grayscale and 256 res"
   ]
  },
  {
   "cell_type": "code",
   "execution_count": null,
   "id": "41a0527b",
   "metadata": {
    "scrolled": false
   },
   "outputs": [],
   "source": [
    "show_plots = False\n",
    "\n",
    "for path_idx, path in enumerate(images_paths):\n",
    "    base = base_path + path\n",
    "    \n",
    "    for frame_path in os.listdir(str(base_path+path)):\n",
    "        \n",
    "        image = cv2.imread(base + frame_path)\n",
    "        \n",
    "        # Convert to greyscale\n",
    "        image = cv2.cvtColor(image, cv2.COLOR_RGB2GRAY) \n",
    "        \n",
    "        # plot the original image\n",
    "        if show_plots: \n",
    "            plt.imshow(image)\n",
    "            plt.show()\n",
    "        \n",
    "        # Resize\n",
    "        down_points = (img_width, img_height)\n",
    "        image_down = cv2.resize(image, down_points, interpolation=cv2.INTER_CUBIC)\n",
    "        \n",
    "        if show_plots: \n",
    "            plt.imshow(image_down)\n",
    "            plt.show()\n",
    "        \n",
    "        \n",
    "        # write the image out to the folder:\n",
    "        filename = base_path + output_paths[path_idx] + frame_path\n",
    "        cv2.imwrite(filename, image_down)"
   ]
  },
  {
   "cell_type": "markdown",
   "id": "f17597e8",
   "metadata": {},
   "source": [
    "___"
   ]
  },
  {
   "cell_type": "markdown",
   "id": "91bdd551",
   "metadata": {},
   "source": [
    "## Make the labels from theirs"
   ]
  },
  {
   "cell_type": "code",
   "execution_count": null,
   "id": "martial-journalism",
   "metadata": {},
   "outputs": [],
   "source": [
    "base_path_labels = \"/Users/megantabbutt/Desktop/Computer Science Classes/762_AdvancedDeepLearning/\"\n",
    "\n",
    "paper_labels_full_path = \"762_Project/Codes/Paper_codes/labels/\"\n",
    "\n",
    "labels_out_path = \"random_frames_v1_256/labels_paper/\""
   ]
  },
  {
   "cell_type": "code",
   "execution_count": null,
   "id": "5c010f94",
   "metadata": {},
   "outputs": [],
   "source": [
    "# get all the vidoes_frames and add as keys to a dictionary:\n",
    "videos_frames_dict = dict()\n",
    "\n",
    "\n",
    "for path_idx, path in enumerate(images_paths):\n",
    "    base = base_path + path\n",
    "    \n",
    "    for frame_path in os.listdir(str(base_path+path)):\n",
    "        video = frame_path.split(\"_\")[0]\n",
    "        frame = frame_path.split(\"_\")[1].split(\".\")[0]\n",
    "        if video not in videos_frames_dict:\n",
    "            videos_frames_dict[video] = []\n",
    "        videos_frames_dict[video].append(frame)\n",
    "               \n",
    "videos_frames_dict"
   ]
  },
  {
   "cell_type": "code",
   "execution_count": null,
   "id": "45ac3585",
   "metadata": {},
   "outputs": [],
   "source": [
    "vidframes_labels_dict = dict()\n",
    "\n",
    "\n",
    "for video in videos_frames_dict:\n",
    "    f = open(base_path_labels + paper_labels_full_path + str(video)+\".json\")\n",
    "    data = json.load(f)\n",
    "    for frame in videos_frames_dict[video]:\n",
    "        vidframe = str(video) + \"_\" + str(frame)\n",
    "        vidframes_labels_dict[vidframe] = data[int(frame)]\n",
    "    \n",
    "vidframes_labels_dict"
   ]
  },
  {
   "cell_type": "code",
   "execution_count": null,
   "id": "37733ac7",
   "metadata": {},
   "outputs": [],
   "source": [
    "with open(base_path + labels_out_path + 'labels_paper.json', 'w') as fp:\n",
    "    json.dump(vidframes_labels_dict, fp)"
   ]
  },
  {
   "cell_type": "markdown",
   "id": "6345e7a5",
   "metadata": {},
   "source": [
    "___"
   ]
  },
  {
   "cell_type": "markdown",
   "id": "a908d84c",
   "metadata": {},
   "source": [
    "## Making a more balanced dataset out of the random frames:"
   ]
  },
  {
   "cell_type": "code",
   "execution_count": null,
   "id": "b110860d",
   "metadata": {},
   "outputs": [],
   "source": [
    "path_labels = \"/Users/megantabbutt/Desktop/Computer Science Classes/762_AdvancedDeepLearning/\\\n",
    "762_Project/Data/random_frames_v1_256/labels_paper/labels_paper.json\"  "
   ]
  },
  {
   "cell_type": "code",
   "execution_count": null,
   "id": "52e94e86",
   "metadata": {},
   "outputs": [],
   "source": [
    "label_file = open(path_labels)\n",
    "label_data = json.load(label_file)\n",
    "plt.hist(label_data.values(), bins=[1, 2, 3, 4, 5, 6, 7, 8, 9, 10])"
   ]
  },
  {
   "cell_type": "code",
   "execution_count": null,
   "id": "a23a0bdd",
   "metadata": {},
   "outputs": [],
   "source": [
    "np.unique(list(label_data.values()))"
   ]
  },
  {
   "cell_type": "markdown",
   "id": "b5480012",
   "metadata": {},
   "source": [
    "## Make a Balanced Training and Test set from the Paper's original videos "
   ]
  },
  {
   "cell_type": "code",
   "execution_count": null,
   "id": "acb4f69a",
   "metadata": {},
   "outputs": [],
   "source": [
    "base_path = \"/Users/megantabbutt/Desktop/Computer Science Classes/762_AdvancedDeepLearning/762_Project/Data/\"\n",
    "source_paths = [\"random_frames_v1_256/test/\", \"random_frames_v1_256/train/\"]\n",
    "destination_paths = [\"random_frames_256_balanced/test/\", \"random_frames_256_balanced/train/\"]"
   ]
  },
  {
   "cell_type": "code",
   "execution_count": null,
   "id": "f419f16f",
   "metadata": {},
   "outputs": [],
   "source": [
    "balance_dict_inv = {1:[], 2:[], 4:[], 5:[], 6:[], 7:[], 9:[]}\n",
    "balance_n_train = 224\n",
    "balance_n_test = 50"
   ]
  },
  {
   "cell_type": "code",
   "execution_count": null,
   "id": "7de95a82",
   "metadata": {},
   "outputs": [],
   "source": [
    "len(label_data)"
   ]
  },
  {
   "cell_type": "code",
   "execution_count": null,
   "id": "702497d4",
   "metadata": {},
   "outputs": [],
   "source": [
    "for class_num in balance_dict_inv:\n",
    "    for key in label_data:\n",
    "            \n",
    "        if label_data[key] == class_num:\n",
    "            balance_dict_inv[class_num].append(key)\n",
    "                \n",
    "        if len(balance_dict_inv[class_num]) == (balance_n_train + balance_n_test): break\n"
   ]
  },
  {
   "cell_type": "code",
   "execution_count": null,
   "id": "cddd68c1",
   "metadata": {},
   "outputs": [],
   "source": [
    "len(balance_dict_inv[9])"
   ]
  },
  {
   "cell_type": "code",
   "execution_count": null,
   "id": "3039fc8d",
   "metadata": {},
   "outputs": [],
   "source": [
    "frame_labels_balanced = dict()\n",
    "test_labels = dict()\n",
    "\n",
    "for class_num in balance_dict_inv:\n",
    "    print(class_num)\n",
    "    \n",
    "    # Do testing:\n",
    "    n_test = 0\n",
    "    for vid in os.listdir(base_path+source_paths[0]):\n",
    "        if n_test == balance_n_test: break\n",
    "        if vid[-4:] == \".jpg\":\n",
    "            vid_name = vid[:-4]\n",
    "            if vid_name in balance_dict_inv[class_num]:\n",
    "                n_test += 1\n",
    "                frame_labels_balanced[vid_name] = class_num\n",
    "                shutil.copy(base_path+source_paths[0]+vid, base_path+destination_paths[0]+vid)\n",
    "    \n",
    "    # Do training:\n",
    "    n_train = 0\n",
    "    for vid in os.listdir(base_path+source_paths[1]):\n",
    "        if n_train == balance_n_train: break\n",
    "        if vid[-4:] == \".jpg\":\n",
    "            vid_name = vid[:-4]\n",
    "            if vid_name in balance_dict_inv[class_num]:\n",
    "                frame_labels_balanced[vid_name] = class_num\n",
    "                n_train += 1\n",
    "                shutil.copy(base_path+source_paths[1]+vid, base_path+destination_paths[1]+vid)\n",
    "                \n",
    "    \n",
    "with open(base_path + \"random_frames_256_balanced/labels_paper/\" + 'labels_paper.json', 'w') as fp:\n",
    "    json.dump(frame_labels_balanced, fp)\n",
    "    \n",
    "#frame_labels_balanced"
   ]
  },
  {
   "cell_type": "code",
   "execution_count": null,
   "id": "097e29be",
   "metadata": {},
   "outputs": [],
   "source": [
    "base_path = \"/Users/megantabbutt/Desktop/Computer Science Classes/762_AdvancedDeepLearning/762_Project/Data/\"\n",
    "images_paths = [\"random_frames_v1_fullRes/test/\", \"random_frames_v1_fullRes/train/\"]\n",
    "output_paths = [\"random_frames_v1_256/test/\", \"random_frames_v1_256/train/\"]"
   ]
  },
  {
   "cell_type": "code",
   "execution_count": null,
   "id": "e50bdf91",
   "metadata": {},
   "outputs": [],
   "source": []
  },
  {
   "cell_type": "code",
   "execution_count": null,
   "id": "25d15e28",
   "metadata": {},
   "outputs": [],
   "source": [
    "path_labels = \"/Users/megantabbutt/Desktop/Computer Science Classes/762_AdvancedDeepLearning/762_Project/Data/random_frames_256_balanced/labels_paper/labels_paper.json\"  \n",
    "\n",
    "label_file = open(path_labels)\n",
    "label_data = json.load(label_file)\n",
    "plt.hist(label_data.values(), bins=[1, 2, 3, 4, 5, 6, 7, 8, 9, 10])"
   ]
  },
  {
   "cell_type": "code",
   "execution_count": null,
   "id": "e953d39e",
   "metadata": {},
   "outputs": [],
   "source": [
    "label_file"
   ]
  },
  {
   "cell_type": "code",
   "execution_count": null,
   "id": "981054bb",
   "metadata": {},
   "outputs": [],
   "source": []
  },
  {
   "cell_type": "code",
   "execution_count": null,
   "id": "04c5db33",
   "metadata": {},
   "outputs": [],
   "source": [
    "path_labels = \"/Users/megantabbutt/Desktop/Computer Science Classes/762_AdvancedDeepLearning/762_Project/Data/random_frames_256_balanced/labels_paper/pointer_table_shuffled_test.json\"  \n",
    "\n",
    "label_file = open(path_labels)\n",
    "label_data = json.load(label_file)\n",
    "#plt.hist(label_data.values(), bins=[1, 2, 3, 4, 5, 6, 7, 8, 9, 10])"
   ]
  },
  {
   "cell_type": "code",
   "execution_count": null,
   "id": "230fd0f3",
   "metadata": {},
   "outputs": [],
   "source": [
    "vals = []\n",
    "for i in label_data:\n",
    "    vals.append(i[1])\n",
    "    \n",
    "plt.hist(vals, bins=[1, 2, 3, 4, 5, 6, 7, 8, 9, 10])    "
   ]
  },
  {
   "cell_type": "code",
   "execution_count": null,
   "id": "b4795d1c",
   "metadata": {},
   "outputs": [],
   "source": []
  }
 ],
 "metadata": {
  "kernelspec": {
   "display_name": "keras-CS762-env",
   "language": "python",
   "name": "keras-cs762-env"
  },
  "language_info": {
   "codemirror_mode": {
    "name": "ipython",
    "version": 3
   },
   "file_extension": ".py",
   "mimetype": "text/x-python",
   "name": "python",
   "nbconvert_exporter": "python",
   "pygments_lexer": "ipython3",
   "version": "3.7.12"
  }
 },
 "nbformat": 4,
 "nbformat_minor": 5
}
