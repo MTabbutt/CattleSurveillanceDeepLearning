{
 "cells": [
  {
   "cell_type": "markdown",
   "id": "a721f048",
   "metadata": {},
   "source": [
    "## Pre-Processing Notebook\n",
    "\n",
    "### Goals: Need to degrade image resolution and grayscale test and train set before transfer onto GPU nodes to save space. \n",
    "\n",
    "#### Author: Megan Tabbutt"
   ]
  },
  {
   "cell_type": "code",
   "execution_count": 1,
   "id": "logical-scientist",
   "metadata": {},
   "outputs": [],
   "source": [
    "base_path = \"/Users/megantabbutt/Desktop/Computer Science Classes/762_AdvancedDeepLearning/762_Project/Data/\"\n",
    "images_paths = [\"random_frames_v1_fullRes/test/\", \"random_frames_v1_fullRes/train/\"]\n",
    "output_paths = [\"random_frames_v1_256/test/\", \"random_frames_v1_256/train/\"]\n",
    "\n",
    "img_height = 256\n",
    "img_width = 256"
   ]
  },
  {
   "cell_type": "code",
   "execution_count": 2,
   "id": "4b4128f9",
   "metadata": {},
   "outputs": [],
   "source": [
    "import os\n",
    "import numpy as np\n",
    "import matplotlib.pyplot as plt\n",
    "\n",
    "# Image processing\n",
    "import cv2"
   ]
  },
  {
   "cell_type": "code",
   "execution_count": 3,
   "id": "41a0527b",
   "metadata": {
    "scrolled": false
   },
   "outputs": [],
   "source": [
    "show_plots = False\n",
    "\n",
    "for path_idx, path in enumerate(images_paths):\n",
    "    base = base_path + path\n",
    "    \n",
    "    for frame_path in os.listdir(str(base_path+path)):\n",
    "        \n",
    "        image = cv2.imread(base + frame_path)\n",
    "        \n",
    "        # Convert to greyscale\n",
    "        image = cv2.cvtColor(image, cv2.COLOR_RGB2GRAY) \n",
    "        \n",
    "        # plot the original image\n",
    "        if show_plots: \n",
    "            plt.imshow(image)\n",
    "            plt.show()\n",
    "        \n",
    "        # Resize\n",
    "        down_points = (img_width, img_height)\n",
    "        image_down = cv2.resize(image, down_points, interpolation=cv2.INTER_CUBIC)\n",
    "        \n",
    "        if show_plots: \n",
    "            plt.imshow(image_down)\n",
    "            plt.show()\n",
    "        \n",
    "        \n",
    "        # write the image out to the folder:\n",
    "        filename = base_path + output_paths[path_idx] + frame_path\n",
    "        cv2.imwrite(filename, image_down)"
   ]
  },
  {
   "cell_type": "code",
   "execution_count": null,
   "id": "martial-journalism",
   "metadata": {},
   "outputs": [],
   "source": []
  }
 ],
 "metadata": {
  "kernelspec": {
   "display_name": "keras-CS762-env",
   "language": "python",
   "name": "keras-cs762-env"
  },
  "language_info": {
   "codemirror_mode": {
    "name": "ipython",
    "version": 3
   },
   "file_extension": ".py",
   "mimetype": "text/x-python",
   "name": "python",
   "nbconvert_exporter": "python",
   "pygments_lexer": "ipython3",
   "version": "3.7.12"
  }
 },
 "nbformat": 4,
 "nbformat_minor": 5
}
