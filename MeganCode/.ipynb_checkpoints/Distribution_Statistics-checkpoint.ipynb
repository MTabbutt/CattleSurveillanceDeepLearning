{
 "cells": [
  {
   "cell_type": "code",
   "execution_count": 6,
   "id": "3988dd10",
   "metadata": {},
   "outputs": [],
   "source": [
    "import os\n",
    "import json\n",
    "import matplotlib.pyplot as plt"
   ]
  },
  {
   "cell_type": "code",
   "execution_count": 3,
   "id": "2f2fb390",
   "metadata": {},
   "outputs": [],
   "source": [
    "path_labels = \"/Users/megantabbutt/Desktop/Computer Science Classes/762_AdvancedDeepLearning/\\\n",
    "762_Project/Data/random_frames_v1_256/labels_paper/labels_paper.json\"  "
   ]
  },
  {
   "cell_type": "code",
   "execution_count": null,
   "id": "40edd7bb",
   "metadata": {},
   "outputs": [],
   "source": []
  },
  {
   "cell_type": "code",
   "execution_count": 7,
   "id": "553ef6e3",
   "metadata": {},
   "outputs": [
    {
     "data": {
      "text/plain": [
       "(array([ 274.,  692.,   28., 1535.,    0., 1075.,  745., 5538.,    0.,\n",
       "        1263.]),\n",
       " array([1. , 1.8, 2.6, 3.4, 4.2, 5. , 5.8, 6.6, 7.4, 8.2, 9. ]),\n",
       " <BarContainer object of 10 artists>)"
      ]
     },
     "execution_count": 7,
     "metadata": {},
     "output_type": "execute_result"
    },
    {
     "data": {
      "image/png": "[encoded data removed]",
      "text/plain": [
       "<Figure size 432x288 with 1 Axes>"
      ]
     },
     "metadata": {
      "needs_background": "light"
     },
     "output_type": "display_data"
    }
   ],
   "source": [
    "label_file = open(path_labels)\n",
    "label_data = json.load(label_file)\n",
    "plt.hist(label_data.values())"
   ]
  },
  {
   "cell_type": "code",
   "execution_count": null,
   "id": "2545df85",
   "metadata": {},
   "outputs": [],
   "source": []
  }
 ],
 "metadata": {
  "kernelspec": {
   "display_name": "keras-CS762-env",
   "language": "python",
   "name": "keras-cs762-env"
  },
  "language_info": {
   "codemirror_mode": {
    "name": "ipython",
    "version": 3
   },
   "file_extension": ".py",
   "mimetype": "text/x-python",
   "name": "python",
   "nbconvert_exporter": "python",
   "pygments_lexer": "ipython3",
   "version": "3.7.12"
  }
 },
 "nbformat": 4,
 "nbformat_minor": 5
}
