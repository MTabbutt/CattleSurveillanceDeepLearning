{
 "cells": [
  {
   "cell_type": "code",
   "execution_count": null,
   "id": "c041c411",
   "metadata": {},
   "outputs": [],
   "source": [
    "# Make Jupyter Notebook full screen \n",
    "from IPython.core.display import display, HTML\n",
    "display(HTML(\"<style>.container { width:90% !important; }</style>\"))\n",
    "Tableau10 = {'blue':'#4E79A7', 'orange':'#F28E2B', 'red':'#E15759', 'teal':'#76B7B2', 'green':'#59A14F', \n",
    "             'yellow':'#EDC948', 'purple':'#B07AA1', 'pink':'#FF9DA7', 'brown':'#9C755F', 'gray':'#BAB0AC'}"
   ]
  },
  {
   "cell_type": "code",
   "execution_count": null,
   "id": "cbffe8ca",
   "metadata": {},
   "outputs": [],
   "source": [
    "base = \"/Users/megantabbutt/Desktop/Computer Science Classes/762_AdvancedDeepLearning/762_Project/\""
   ]
  },
  {
   "cell_type": "code",
   "execution_count": null,
   "id": "a8f9b3ac",
   "metadata": {},
   "outputs": [],
   "source": [
    "# Math manipulation\n",
    "import numpy as np\n",
    "import pandas as pd\n",
    "\n",
    "# Vizualization\n",
    "import seaborn as sns\n",
    "import matplotlib.pyplot as plt\n",
    "%matplotlib inline \n",
    "\n",
    "# Image processing\n",
    "import cv2\n",
    "\n",
    "# Utilities\n",
    "import os\n",
    "import random\n",
    "import gc\n",
    "from keras.preprocessing.image import ImageDataGenerator\n",
    "from keras.preprocessing.image import img_to_array, load_img\n",
    "from keras.utils import to_categorical\n",
    "import codecs, json \n",
    "import re\n",
    "\n",
    "from albumentations import Compose\n",
    "import albumentations as A\n",
    "import random\n",
    "\n",
    "import keras\n",
    "from keras.models import Sequential\n",
    "from keras.layers import Dense, Activation, Dropout, Flatten\n",
    "from keras.layers import Conv2D\n",
    "from keras.layers import MaxPooling2D\n",
    "from keras.layers.normalization import BatchNormalization\n",
    "from keras import optimizers\n",
    "from keras.callbacks import EarlyStopping\n",
    "from keras.callbacks import ModelCheckpoint\n",
    "from keras.models import load_model\n",
    "\n",
    "#utils\n",
    "from keras_tqdm import TQDMNotebookCallback\n",
    "\n",
    "# Models\n",
    "from keras import applications\n",
    "from keras.optimizers import SGD, Adam\n",
    "\n",
    "from sklearn.metrics import roc_curve\n",
    "from sklearn.metrics import confusion_matrix"
   ]
  },
  {
   "cell_type": "code",
   "execution_count": null,
   "id": "594a6129",
   "metadata": {},
   "outputs": [],
   "source": [
    "FLAG_DEBUG = False\n",
    "FLAG_GENERATE_TABLE = True\n",
    "FLAG_TRAIN_IN_PRELOAD = False\n",
    "\n",
    "img_height = 256 #- these should already be done in pre-processing \n",
    "img_width = 256 #- these should already be done in pre-processing \n",
    "img_channels = 1\n",
    "\n",
    "batch_size = 900"
   ]
  },
  {
   "cell_type": "markdown",
   "id": "cbea049c",
   "metadata": {},
   "source": [
    "## Weak Supervision Cropped Results Comparison:"
   ]
  },
  {
   "cell_type": "code",
   "execution_count": null,
   "id": "2fe411d6",
   "metadata": {},
   "outputs": [],
   "source": [
    "path_frames_test = base + \"Data/Exp6_frames_unbalanced_256/test/\"\n",
    "\n",
    "path_labels_base = base + \"Data/Exp6_frames_unbalanced_256/labels_paper/\"  \n",
    "path_labels = path_labels_base + \"labels_paper_test.json\"\n",
    "\n",
    "model_path = base + \"ModelSave/Exp6_V1_model.h5\"\n",
    "acc_path = base + \"ModelSave/Exp6_V1_accuracies.json\"\n",
    "n_test = len(os.listdir(path_frames_test))\n",
    "\n",
    "#______________________________________________________________________\n",
    "\n",
    "model = load_model(model_path) \n",
    "\n",
    "with open(path_labels) as fp:\n",
    "    truth_data = json.load(fp)\n",
    "    \n",
    "data_to_write_6 = dict()\n",
    "\n",
    "for i, file in enumerate(os.listdir(path_frames_test)):\n",
    "    if file[0] == \".\":\n",
    "        continue\n",
    "    vid = file.split(\".\")[0]\n",
    "    \n",
    "    frame = cv2.imread(path_frames_test + file)\n",
    "    frame = cv2.cvtColor(frame, cv2.COLOR_RGB2GRAY)\n",
    "    down_points = (img_width, img_height)\n",
    "    frame = cv2.resize(frame, down_points, interpolation=cv2.INTER_CUBIC)\n",
    "    frame = np.reshape(frame, (1, 256, 256, 1))\n",
    "    prediction = model.predict(frame)\n",
    "\n",
    "    data_to_write_6[file] = list(prediction[0].astype(float))"
   ]
  },
  {
   "cell_type": "code",
   "execution_count": null,
   "id": "b26f8aa4",
   "metadata": {},
   "outputs": [],
   "source": [
    "# For including 0 cases only:\n",
    "\n",
    "y_predicted_6 = []\n",
    "y_truth_6 = []\n",
    "\n",
    "for file in data_to_write_6:\n",
    "    if file[0] == \".\": continue\n",
    "    frame = file.split(\".\")[0]\n",
    "    #frame = file.split(\".\")[0].split(\"_\")[0] + \"_\" + file.split(\".\")[0].split(\"_\")[1]\n",
    "    y_predicted_6.append(np.argmax(data_to_write_6[file]))\n",
    "    \n",
    "for i, file in enumerate(os.listdir(path_frames_test)):\n",
    "    if file[0] == \".\": continue\n",
    "    info = file.split(\"_\")\n",
    "    y_truth_6.append(int(file.split(\"_\")[3]))"
   ]
  },
  {
   "cell_type": "code",
   "execution_count": null,
   "id": "9ca339f5",
   "metadata": {},
   "outputs": [],
   "source": [
    "path_frames_test = base + \"Data/Exp4_frames_unbalanced_256/test_manual_V2/\"\n",
    "\n",
    "path_labels_base = base + \"Data/Exp4_frames_unbalanced_256/labels_paper/\"  \n",
    "path_labels = path_labels_base + \"labels_paper.json\"\n",
    "\n",
    "model_path = base + \"ModelSave/Exp4_V1_model.h5\"\n",
    "acc_path = base + \"ModelSave/Exp4_V1_accuracies.json\"\n",
    "n_test = len(os.listdir(path_frames_test))\n",
    "\n",
    "#______________________________________________________________________\n",
    "\n",
    "model = load_model(model_path) \n",
    "\n",
    "with open(path_labels) as fp:\n",
    "    truth_data = json.load(fp)\n",
    "    \n",
    "data_to_write_4 = dict()\n",
    "\n",
    "for i, file in enumerate(os.listdir(path_frames_test)):\n",
    "    if file[0] == \".\":\n",
    "        continue\n",
    "    vid = file.split(\".\")[0]\n",
    "    \n",
    "    frame = cv2.imread(path_frames_test + file)\n",
    "    frame = cv2.cvtColor(frame, cv2.COLOR_RGB2GRAY)\n",
    "    down_points = (img_width, img_height)\n",
    "    frame = cv2.resize(frame, down_points, interpolation=cv2.INTER_CUBIC)\n",
    "    frame = np.reshape(frame, (1, 256, 256, 1))\n",
    "    prediction = model.predict(frame)\n",
    "\n",
    "    data_to_write_4[file] = list(prediction[0].astype(float))"
   ]
  },
  {
   "cell_type": "code",
   "execution_count": null,
   "id": "d1b2c6a7",
   "metadata": {},
   "outputs": [],
   "source": [
    "# For including 0 cases only:\n",
    "\n",
    "y_predicted_4 = []\n",
    "y_truth_4 = []\n",
    "\n",
    "for file in data_to_write_4:\n",
    "    if file[0] == \".\": continue\n",
    "    frame = file.split(\".\")[0]\n",
    "    #frame = file.split(\".\")[0].split(\"_\")[0] + \"_\" + file.split(\".\")[0].split(\"_\")[1]\n",
    "    y_predicted_4.append(np.argmax(data_to_write_4[file]))\n",
    "    \n",
    "for i, file in enumerate(os.listdir(path_frames_test)):\n",
    "    if file[0] == \".\": continue\n",
    "    info = file.split(\"_\")\n",
    "    y_truth_4.append(int(file.split(\"_\")[3]))"
   ]
  },
  {
   "cell_type": "code",
   "execution_count": null,
   "id": "3755481b",
   "metadata": {},
   "outputs": [],
   "source": [
    "cm_6 = confusion_matrix(y_truth_6, y_predicted_6)\n",
    "cm_norm_6 = np.zeros(cm_6.shape)\n",
    "for i in range(cm_6.shape[0]):\n",
    "    for j in range(cm_6.shape[1]):\n",
    "        print(cm_6[i, j], np.sum(cm_6, axis=1, keepdims=True)[i])\n",
    "        cm_norm_6[i, j] = cm_6[i, j] / np.sum(cm_6, axis=1, keepdims=True)[i]"
   ]
  },
  {
   "cell_type": "code",
   "execution_count": null,
   "id": "2d500b9a",
   "metadata": {},
   "outputs": [],
   "source": [
    "cm_norm_6"
   ]
  },
  {
   "cell_type": "code",
   "execution_count": null,
   "id": "63db97e8",
   "metadata": {},
   "outputs": [],
   "source": []
  }
 ],
 "metadata": {
  "kernelspec": {
   "display_name": "keras-CS762-env",
   "language": "python",
   "name": "keras-cs762-env"
  },
  "language_info": {
   "codemirror_mode": {
    "name": "ipython",
    "version": 3
   },
   "file_extension": ".py",
   "mimetype": "text/x-python",
   "name": "python",
   "nbconvert_exporter": "python",
   "pygments_lexer": "ipython3",
   "version": "3.7.12"
  }
 },
 "nbformat": 4,
 "nbformat_minor": 5
}
